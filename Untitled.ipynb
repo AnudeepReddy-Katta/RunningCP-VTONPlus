{
 "cells": [
  {
   "cell_type": "code",
   "execution_count": null,
   "id": "vanilla-possession",
   "metadata": {},
   "outputs": [],
   "source": [
    "import numpy as np\n",
    "import imageio as ii\n",
    "from PIL import Image\n",
    "nxb_img   = Image.open('datasets/CIHP/images/000898_0.jpg')      # This is your image.\n",
    " \n",
    "# Reshape their label image to our size \n",
    "label_img = Image.open('datasets/CIHP/labels/0005008.png')  # This is the label image from CIHP.\n",
    "nxb_label_img = label_img.resize(nxb_img.size, Image.NEAREST)\n",
    "nxb_label_img.save('datasets/CIHP/labels/front.png')\n",
    "\n",
    "# Reshape their edge image to our size \n",
    "edge_img  = Image.open('/home/nathanbendich/CIHP_PGN/datasets/CIHP/edges/0005008.png')\n",
    "nxb_edge_img  = edge_img.resize(nxb_img.size, Image.NEAREST)\n",
    "nxb_edge_img.save('datasets/CIHP/edges/front.png')"
   ]
  }
 ],
 "metadata": {
  "kernelspec": {
   "display_name": "Python 3",
   "language": "python",
   "name": "python3"
  },
  "language_info": {
   "codemirror_mode": {
    "name": "ipython",
    "version": 3
   },
   "file_extension": ".py",
   "mimetype": "text/x-python",
   "name": "python",
   "nbconvert_exporter": "python",
   "pygments_lexer": "ipython3",
   "version": "3.7.10"
  }
 },
 "nbformat": 4,
 "nbformat_minor": 5
}
